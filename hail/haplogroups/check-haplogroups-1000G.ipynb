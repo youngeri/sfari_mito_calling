{
 "cells": [
  {
   "cell_type": "code",
   "execution_count": 1,
   "id": "07c11e83",
   "metadata": {},
   "outputs": [
    {
     "data": {
      "text/plain": [
       "'\\ncompare haplogroups inferred by haplogrep to reported ethnicity for variant calling controls (1000G)\\nhttp://ftp.1000genomes.ebi.ac.uk/vol1/ftp/technical/working/20130606_sample_info/20130606_sample_info.xlsx\\n'"
      ]
     },
     "execution_count": 1,
     "metadata": {},
     "output_type": "execute_result"
    }
   ],
   "source": [
    "'''\n",
    "compare haplogroups inferred by haplogrep to reported ethnicity for variant calling controls (1000G)\n",
    "http://ftp.1000genomes.ebi.ac.uk/vol1/ftp/technical/working/20130606_sample_info/20130606_sample_info.xlsx\n",
    "'''"
   ]
  },
  {
   "cell_type": "code",
   "execution_count": 2,
   "id": "6f1f1914",
   "metadata": {},
   "outputs": [],
   "source": [
    "import pandas as pd"
   ]
  },
  {
   "cell_type": "code",
   "execution_count": 102,
   "id": "c33e89fc",
   "metadata": {},
   "outputs": [],
   "source": [
    "pheno_file = '/media/erica/Seagate/research/references/20130606_sample_info.csv'\n",
    "haplo_file = '/media/erica/Seagate/research/callset_20200225/mt-data/test/combined_test_sequencing_controls_haplogroups.txt'\n",
    "pop_file = '/media/erica/Seagate/research/references/1000G_pop_codes.csv'"
   ]
  },
  {
   "cell_type": "code",
   "execution_count": 103,
   "id": "89fcd67f",
   "metadata": {},
   "outputs": [],
   "source": [
    "pheno = pd.read_csv(pheno_file, delimiter = '\\t')\n",
    "pop_codes = pd.read_csv(pop_file, delimiter = '\\t')"
   ]
  },
  {
   "cell_type": "code",
   "execution_count": 106,
   "id": "d9615310",
   "metadata": {},
   "outputs": [],
   "source": [
    "pheno = pd.merge(pheno, pop_codes, how = 'left', left_on = 'Population', right_on = 'Population Code')"
   ]
  },
  {
   "cell_type": "code",
   "execution_count": 108,
   "id": "663a1630",
   "metadata": {},
   "outputs": [],
   "source": [
    "haplo = pd.read_csv(haplo_file, delimiter = '\\t')\n",
    "haplo['orig_ID'] = haplo.SampleID.str.split('-')\n",
    "haplo['orig_ID'] = haplo.orig_ID.apply(lambda x: x[1])"
   ]
  },
  {
   "cell_type": "code",
   "execution_count": 109,
   "id": "784b421b",
   "metadata": {},
   "outputs": [],
   "source": [
    "# 2 moles, 3 other samples not in 1000G pheno file\n",
    "haplo = pd.merge(haplo, pheno, how = 'inner', left_on = 'orig_ID', right_on = 'Sample')"
   ]
  },
  {
   "cell_type": "code",
   "execution_count": 110,
   "id": "c4029e30",
   "metadata": {},
   "outputs": [],
   "source": [
    "haplo['group'] = haplo.Haplogroup.apply(lambda x: x[0])"
   ]
  },
  {
   "cell_type": "code",
   "execution_count": 119,
   "id": "88529fb9",
   "metadata": {},
   "outputs": [],
   "source": [
    "# https://www.ncbi.nlm.nih.gov/pmc/articles/PMC5299762/pdf/12864_2017_Article_3539.pdf\n",
    "# Fig2B\n",
    "\n",
    "# https://www.mitomap.org/foswiki/pub/MITOMAP/MitomapFigures/WorldMigrations2012.pdf\n",
    "\n",
    "# https://www.mitomap.org/foswiki/pub/MITOMAP/MitomapFigures/simple-tree-mitomap-2019.pdf\n",
    "mt_haplo_dict = {'L': 'African', \n",
    "                 'D': 'American/Asian',\n",
    "                 'F': 'EastAsian',\n",
    "                 'G': 'EastAsian',\n",
    "                 'N': 'EastAsian',\n",
    "                 'Y': 'EastAsian',\n",
    "                 'Z': 'EastAsian',\n",
    "                 'H': 'EuroIndian',\n",
    "                 'I': 'EuroIndian',\n",
    "                 'J': 'EuroIndian',\n",
    "                 'K': 'EuroIndian',\n",
    "                 'T': 'EuroIndian',\n",
    "                 'V': 'EuroIndian',\n",
    "                 'W': 'EuroIndian',\n",
    "                 'X': 'EuroIndian',\n",
    "                 'U': 'EuroIndian',\n",
    "                 'M': 'Asian',\n",
    "                 'R': 'Asian', \n",
    "                 'A': 'American/Asian', \n",
    "                 'B': 'American/Asian', \n",
    "                 'C': 'American/Asian'}"
   ]
  },
  {
   "cell_type": "code",
   "execution_count": 120,
   "id": "d75be076",
   "metadata": {},
   "outputs": [],
   "source": [
    "haplo['mt-anc'] = haplo.group.apply(lambda x: mt_haplo_dict[x])"
   ]
  },
  {
   "cell_type": "code",
   "execution_count": 121,
   "id": "30e320d5",
   "metadata": {},
   "outputs": [
    {
     "data": {
      "text/plain": [
       "Super Population Code  mt-anc        \n",
       "AFR                    African           35\n",
       "                       EuroIndian         1\n",
       "AMR                    American/Asian    22\n",
       "                       EuroIndian         2\n",
       "EAS                    American/Asian     7\n",
       "                       Asian              8\n",
       "EUR                    EuroIndian         9\n",
       "SAS                    Asian             13\n",
       "                       EastAsian          1\n",
       "                       EuroIndian         9\n",
       "dtype: int64"
      ]
     },
     "execution_count": 121,
     "metadata": {},
     "output_type": "execute_result"
    }
   ],
   "source": [
    "haplo.groupby(['Super Population Code', 'mt-anc']).size()"
   ]
  },
  {
   "cell_type": "code",
   "execution_count": 122,
   "id": "58da3ec9",
   "metadata": {},
   "outputs": [
    {
     "data": {
      "text/plain": [
       "Population Description                                             mt-anc        \n",
       "African Caribbeans in Barbados                                     African           6\n",
       "Americans of African Ancestry in SW USA                            African           6\n",
       "Bengali from Bangladesh                                            Asian             2\n",
       "                                                                   EuroIndian        3\n",
       "Colombians from Medellin, Colombia                                 American/Asian    6\n",
       "Esan in Nigeria                                                    African           6\n",
       "Gambian in Western Divisions in the Gambia                         African           5\n",
       "                                                                   EuroIndian        1\n",
       "Iberian Population in Spain                                        EuroIndian        6\n",
       "Indian Telugu from the UK                                          Asian             4\n",
       "                                                                   EuroIndian        2\n",
       "Kinh in Ho Chi Minh City, Vietnam                                  American/Asian    2\n",
       "                                                                   Asian             4\n",
       "Mende in Sierra Leone                                              African           6\n",
       "Mexican Ancestry from Los Angeles USA                              American/Asian    4\n",
       "                                                                   EuroIndian        2\n",
       "Peruvians from Lima, Peru                                          American/Asian    6\n",
       "Puerto Ricans from Puerto Rico                                     American/Asian    6\n",
       "Punjabi from Lahore, Pakistan                                      Asian             4\n",
       "                                                                   EuroIndian        2\n",
       "Southern Han Chinese                                               American/Asian    5\n",
       "                                                                   Asian             4\n",
       "Sri Lankan Tamil from the UK                                       Asian             3\n",
       "                                                                   EastAsian         1\n",
       "                                                                   EuroIndian        2\n",
       "Utah Residents (CEPH) with Northern and Western European Ancestry  EuroIndian        3\n",
       "Yoruba in Ibadan, Nigeria                                          African           6\n",
       "dtype: int64"
      ]
     },
     "execution_count": 122,
     "metadata": {},
     "output_type": "execute_result"
    }
   ],
   "source": [
    "haplo.groupby(['Population Description', 'mt-anc']).size()"
   ]
  }
 ],
 "metadata": {
  "kernelspec": {
   "display_name": "Python 3",
   "language": "python",
   "name": "python3"
  },
  "language_info": {
   "codemirror_mode": {
    "name": "ipython",
    "version": 3
   },
   "file_extension": ".py",
   "mimetype": "text/x-python",
   "name": "python",
   "nbconvert_exporter": "python",
   "pygments_lexer": "ipython3",
   "version": "3.8.5"
  }
 },
 "nbformat": 4,
 "nbformat_minor": 5
}
